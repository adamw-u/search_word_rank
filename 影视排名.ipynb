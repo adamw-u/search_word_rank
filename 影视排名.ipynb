{
 "cells": [
  {
   "cell_type": "code",
   "execution_count": null,
   "metadata": {
    "collapsed": false
   },
   "outputs": [],
   "source": [
    "import time\n",
    "import urllib2\n",
    "import pandas as pd\n",
    "import requests\n",
    "from bs4 import BeautifulSoup\n",
    "from multiprocessing.dummy import Pool as ThreadPool\n",
    "\n",
    "tv = pd.read_csv('C:/Users/Administrator/Desktop/tv.csv',header = None,encoding = 'gbk')\n",
    "tv_list = [i.encode('utf-8') for i in list(pd.unique(tv.iloc[:,0]))]\n",
    "\n",
    "dianying = pd.read_csv('C:/Users/Administrator/Desktop/dianying.csv',header = None,encoding = 'gbk')\n",
    "dianying_list = [i.encode('utf-8') for i in list(pd.unique(dianying.iloc[:,0]))]\n",
    "\n",
    "v = pd.read_csv('C:/Users/Administrator/Desktop/v.csv',header = None,encoding = 'gbk')\n",
    "v_list = [i.encode('utf-8') for i in list(pd.unique(v.iloc[:,0]))]\n",
    "\n",
    "dongman = pd.read_csv('C:/Users/Administrator/Desktop/dongman.csv',header = None,encoding = 'gbk')\n",
    "dongman_list = [i.encode('utf-8') for i in list(pd.unique(dongman.iloc[:,0]))]\n",
    "\n",
    "kankan = pd.read_csv('C:/Users/Administrator/Desktop/kankan.csv',header = None,encoding = 'gbk')\n",
    "kankan_list = [i.encode('utf-8') for i in list(pd.unique(kankan.iloc[:,0]))]\n",
    "\n",
    "start = time.time()\n",
    "headers = { \n",
    "            'User-Agent':'User-Agent:Mozilla/5.0 (Windows NT 6.1; WOW64) AppleWebKit/537.36 (KHTML, like Gecko) Chrome/52.0.2743.116 Safari/537.36',\n",
    "            'Cookie':'BAIDUID=D2154FDB12879492D61C57735FCC52FD:FG=1'\n",
    "            }\n",
    "\n",
    "\n",
    "def rank_nos(key_word,page):\n",
    "    url = url = 'https://www.baidu.com/s?wd='+key_word+'&pn='+str(page)+\"&oq=\"+key_word+\"&ie=utf-8&usm=3&rsv_pq=e4618f0f0000ff3a\"\n",
    "    \n",
    "    response = response = requests.get(url,headers = headers).text\n",
    "\n",
    "    soup = BeautifulSoup(response,'html.parser')\n",
    "    patrent = soup.find_all('div',tpl = 'se_com_default')\n",
    "    list_i = []\n",
    "    for i in patrent:\n",
    "        if \"2345.com\" in str(i.find_all('a',class_ = 'c-showurl')[0].contents):\n",
    "            list_i.append(int(i['id']))\n",
    "    return min(list_i) if list_i else 99\n",
    "\n",
    "def rank_withs(key_word,page):\n",
    "    url = url = 'https://www.baidu.com/s?wd='+key_word+'&pn='+str(page)+\"&oq=\"+key_word+\"&ie=utf-8&usm=3&rsv_pq=e4618f0f0000ff3a\"\n",
    "    \n",
    "    response = response = requests.get(url,headers = headers).text \n",
    "\n",
    "    soup = BeautifulSoup(response,'html.parser')\n",
    "    patrent = soup.find_all('div',tpl = 'se_com_default')\n",
    "    list_i = []\n",
    "    for i in patrent:\n",
    "        if \"<b>2345</b>\" in str(i.find_all('a',class_ = 'c-showurl')[0].contents):\n",
    "            list_i.append(int(i['id']))\n",
    "    return min(list_i) if list_i else 99\n",
    "\n",
    "def rank(key_word):\n",
    "    rank_id = 0\n",
    "    if '2345' in key_word:\n",
    "        rank_id=rank_withs(key_word,page=0)\n",
    "    else:\n",
    "        if rank_nos(key_word,page=0)<99:\n",
    "            rank_id=rank_nos(key_word,page=0)\n",
    "        elif rank_nos(key_word,page=0)==99 and rank_nos(key_word,page=10)<99:\n",
    "            rank_id=rank_nos(key_word,page=10)\n",
    "        elif rank_nos(key_word,page=10)==99:\n",
    "            rank_id=rank_nos(key_word,page=20)\n",
    "    return rank_id"
   ]
  },
  {
   "cell_type": "code",
   "execution_count": null,
   "metadata": {
    "collapsed": false
   },
   "outputs": [],
   "source": [
    "pool = ThreadPool(8)\n",
    "result_tv = pool.map(rank,tv_list)\n",
    "result_diangying = pool.map(rank,dianying_list)\n",
    "result_v = pool.map(rank,v_list)\n",
    "result_dongman = pool.map(rank,dongman_list)\n",
    "result_kankan = pool.map(rank,kankan_list)\n",
    "pool.close()\n",
    "pool.join()\n",
    "print(\"Time: {:.2f} seconds\".format(time.time() - start))\n",
    "\n",
    "df_tv = pd.DataFrame()\n",
    "df_tv['search_word'] = tv_list\n",
    "df_tv['rank'] = result_tv\n",
    "df_tv.to_csv(u'C:/Users/Administrator/Desktop/tv排名.csv',encoding = 'gbk')\n",
    "\n",
    "df_dy = pd.DataFrame()\n",
    "df_dy['search_word'] = dianying_list\n",
    "df_dy['rank'] = result_dianying\n",
    "df_dy.to_csv(u'C:/Users/Administrator/Desktop/电影排名.csv',encoding = 'gbk')\n",
    "\n",
    "df_v = pd.DataFrame()\n",
    "df_v['search_word'] = v_list\n",
    "df_v['rank'] = result_v\n",
    "df_v.to_csv(u'C:/Users/Administrator/Desktop/v排名.csv',encoding = 'gbk')\n",
    "\n",
    "df_d = pd.DataFrame()\n",
    "df_d['search_word'] = dongman_list\n",
    "df_d['rank'] = result_dongman\n",
    "df_d.to_csv(u'C:/Users/Administrator/Desktop/动漫排名.csv',encoding = 'gbk')\n",
    "\n",
    "df_k = pd.DataFrame()\n",
    "df_k['search_word'] = kankan_list\n",
    "df_k['rank'] = result_kankan\n",
    "df_k.to_csv(u'C:/Users/Administrator/Desktop/kankan排名.csv',encoding = 'gbk')"
   ]
  },
  {
   "cell_type": "code",
   "execution_count": null,
   "metadata": {
    "collapsed": false
   },
   "outputs": [],
   "source": [
    "rank('抗日战争')"
   ]
  }
 ],
 "metadata": {
  "kernelspec": {
   "display_name": "Python 2",
   "language": "python",
   "name": "python2"
  },
  "language_info": {
   "codemirror_mode": {
    "name": "ipython",
    "version": 2
   },
   "file_extension": ".py",
   "mimetype": "text/x-python",
   "name": "python",
   "nbconvert_exporter": "python",
   "pygments_lexer": "ipython2",
   "version": "2.7.12"
  }
 },
 "nbformat": 4,
 "nbformat_minor": 0
}
